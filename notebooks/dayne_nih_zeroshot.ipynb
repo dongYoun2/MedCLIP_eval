{
 "cells": [
  {
   "cell_type": "code",
   "execution_count": 1,
   "id": "8f006521",
   "metadata": {},
   "outputs": [],
   "source": [
    "%load_ext autoreload\n",
    "%autoreload 2"
   ]
  },
  {
   "cell_type": "code",
   "execution_count": 2,
   "id": "ee0d2de3",
   "metadata": {},
   "outputs": [],
   "source": [
    "from pathlib import Path\n",
    "\n",
    "import pandas as pd\n",
    "import numpy as np\n",
    "import torch\n",
    "from PIL import Image\n",
    "from torch.utils.data import DataLoader\n",
    "from sklearn.metrics import confusion_matrix\n",
    "import matplotlib.pyplot as plt\n",
    "import seaborn as sns\n",
    "\n",
    "from medclip import MedCLIPModel, MedCLIPProcessor, PromptClassifier\n",
    "from medclip.prompts import process_class_prompts, generate_chexpert_class_prompts\n",
    "from medclip.dataset import ZeroShotImageDataset, ZeroShotImageCollator\n",
    "from medclip.evaluator import Evaluator"
   ]
  },
  {
   "cell_type": "code",
   "execution_count": 27,
   "id": "516fd8bf",
   "metadata": {},
   "outputs": [
    {
     "name": "stdout",
     "output_type": "stream",
     "text": [
      "load data from ./local_data/nih-sampled-meta.csv\n",
      "Dataset size: 7000\n",
      "Class names: ['Atelectasis', 'Cardiomegaly', 'Consolidation', 'Edema', 'Pleural Effusion']\n",
      "\n",
      "Sample image shape: torch.Size([1, 1, 224, 224])\n",
      "Sample label:\n",
      "  Atelectasis Cardiomegaly Consolidation Edema Pleural Effusion\n",
      "0           0            0             0     1                0\n"
     ]
    }
   ],
   "source": [
    "class_names = ['Atelectasis', 'Cardiomegaly', 'Consolidation', 'Edema', 'Pleural Effusion']\n",
    "\n",
    "# Create dataset\n",
    "dataset = ZeroShotImageDataset(\n",
    "    datalist=['nih-sampled'],  # will load from local_data/nih-sampled-meta.csv\n",
    "    class_names=class_names\n",
    ")\n",
    "\n",
    "print(f\"Dataset size: {len(dataset)}\")\n",
    "print(f\"Class names: {class_names}\")\n",
    "\n",
    "# Check a sample\n",
    "img, label = dataset[0]\n",
    "print(f\"\\nSample image shape: {img.shape}\")\n",
    "print(f\"Sample label:\")\n",
    "print(label)"
   ]
  },
  {
   "cell_type": "code",
   "execution_count": 28,
   "id": "0b6d918c",
   "metadata": {},
   "outputs": [
    {
     "name": "stdout",
     "output_type": "stream",
     "text": [
      "sample 10 num of prompts for Atelectasis from total 210\n",
      "sample 10 num of prompts for Cardiomegaly from total 15\n",
      "sample 10 num of prompts for Consolidation from total 192\n",
      "sample 10 num of prompts for Edema from total 18\n",
      "sample 10 num of prompts for Pleural Effusion from total 54\n",
      "\n",
      "Generated prompts for classes: ['Atelectasis', 'Cardiomegaly', 'Consolidation', 'Edema', 'Pleural Effusion']\n",
      "Number of prompts per class: [10, 10, 10, 10, 10]\n",
      "  Atelectasis: 10 prompts\n",
      "    Examples: ['mild linear atelectasis at the left lung zone', 'minimal trace atelectasis at the bilateral lung bases']\n",
      "  Cardiomegaly: 10 prompts\n",
      "    Examples: [' cardiac silhouette size is upper limits of normal ', ' cardiomegaly which is unchanged ']\n",
      "  Consolidation: 10 prompts\n",
      "    Examples: ['increased airspace consolidation at the right uppper lobe', 'apperance of retrocardiac consolidation at the left lower lobe']\n",
      "  Edema: 10 prompts\n",
      "    Examples: ['decreased pulmonary edema ', 'presistent pulmonary edema ']\n",
      "  Pleural Effusion: 10 prompts\n",
      "    Examples: [' left subpulmonic pleural effusion', 'large left subpulmonic pleural effusion']\n"
     ]
    }
   ],
   "source": [
    "# Generate 5 diagnoses class prompts\n",
    "chexpert_classes = generate_chexpert_class_prompts(n=10)\n",
    "print(f\"\\nGenerated prompts for classes: {list(chexpert_classes.keys())}\")\n",
    "print(f\"Number of prompts per class: {[len(v) for v in chexpert_classes.values()]}\")\n",
    "\n",
    "for cls, prompts_list in chexpert_classes.items():\n",
    "    print(f\"  {cls}: {len(prompts_list)} prompts\")\n",
    "    print(f\"    Examples: {prompts_list[:2]}\")"
   ]
  },
  {
   "cell_type": "code",
   "execution_count": 29,
   "id": "fb4ebb8f",
   "metadata": {},
   "outputs": [
    {
     "name": "stderr",
     "output_type": "stream",
     "text": [
      "/Users/dongyoun/miniconda3/envs/medclip_eval/lib/python3.10/site-packages/huggingface_hub/file_download.py:945: FutureWarning: `resume_download` is deprecated and will be removed in version 1.0.0. Downloads always resume when possible. If you want to force a new download, use `force_download=True`.\n",
      "  warnings.warn(\n"
     ]
    },
    {
     "name": "stdout",
     "output_type": "stream",
     "text": [
      "DataLoader created with batch_size=32\n",
      "Number of batches: 219\n",
      "huggingface/tokenizers: The current process just got forked, after parallelism has already been used. Disabling parallelism to avoid deadlocks...\n",
      "To disable this warning, you can either:\n",
      "\t- Avoid using `tokenizers` before the fork if possible\n",
      "\t- Explicitly set the environment variable TOKENIZERS_PARALLELISM=(true | false)\n",
      "huggingface/tokenizers: The current process just got forked, after parallelism has already been used. Disabling parallelism to avoid deadlocks...\n",
      "To disable this warning, you can either:\n",
      "\t- Avoid using `tokenizers` before the fork if possible\n",
      "\t- Explicitly set the environment variable TOKENIZERS_PARALLELISM=(true | false)\n",
      "\n",
      "Sample batch keys: dict_keys(['pixel_values', 'prompt_inputs', 'labels'])\n",
      "Pixel values shape: torch.Size([32, 3, 224, 224])\n",
      "Labels shape: torch.Size([32])\n",
      "Prompt inputs keys: dict_keys(['Atelectasis', 'Cardiomegaly', 'Consolidation', 'Edema', 'Pleural Effusion'])\n"
     ]
    }
   ],
   "source": [
    "# Create collator with prompts\n",
    "collator = ZeroShotImageCollator(\n",
    "    mode='multiclass',\n",
    "    cls_prompts=chexpert_classes\n",
    ")\n",
    "\n",
    "# Create DataLoader\n",
    "batch_size = 32\n",
    "dataloader = DataLoader(\n",
    "    dataset,\n",
    "    batch_size=batch_size,\n",
    "    shuffle=False,\n",
    "    collate_fn=collator,\n",
    "    num_workers=2\n",
    ")\n",
    "\n",
    "print(f\"DataLoader created with batch_size={batch_size}\")\n",
    "print(f\"Number of batches: {len(dataloader)}\")\n",
    "\n",
    "# Test the dataloader\n",
    "sample_batch = next(iter(dataloader))\n",
    "print(f\"\\nSample batch keys: {sample_batch.keys()}\")\n",
    "print(f\"Pixel values shape: {sample_batch['pixel_values'].shape}\")\n",
    "print(f\"Labels shape: {sample_batch['labels'].shape}\")\n",
    "print(f\"Prompt inputs keys: {sample_batch['prompt_inputs'].keys()}\")"
   ]
  },
  {
   "cell_type": "code",
   "execution_count": 30,
   "id": "2614b0d5",
   "metadata": {},
   "outputs": [
    {
     "name": "stderr",
     "output_type": "stream",
     "text": [
      "Some weights of the model checkpoint at microsoft/swin-tiny-patch4-window7-224 were not used when initializing SwinModel: ['classifier.bias', 'classifier.weight']\n",
      "- This IS expected if you are initializing SwinModel from the checkpoint of a model trained on another task or with another architecture (e.g. initializing a BertForSequenceClassification model from a BertForPreTraining model).\n",
      "- This IS NOT expected if you are initializing SwinModel from the checkpoint of a model that you expect to be exactly identical (initializing a BertForSequenceClassification model from a BertForSequenceClassification model).\n",
      "/Users/dongyoun/miniconda3/envs/medclip_eval/lib/python3.10/site-packages/transformers/modeling_utils.py:399: FutureWarning: You are using `torch.load` with `weights_only=False` (the current default value), which uses the default pickle module implicitly. It is possible to construct malicious pickle data which will execute arbitrary code during unpickling (See https://github.com/pytorch/pytorch/blob/main/SECURITY.md#untrusted-models for more details). In a future release, the default value for `weights_only` will be flipped to `True`. This limits the functions that could be executed during unpickling. Arbitrary objects will no longer be allowed to be loaded via this mode unless they are explicitly allowlisted by the user via `torch.serialization.add_safe_globals`. We recommend you start setting `weights_only=True` for any use case where you don't have full control of the loaded file. Please open an issue on GitHub for any issues related to this experimental feature.\n",
      "  return torch.load(checkpoint_file, map_location=\"cpu\")\n",
      "Some weights of the model checkpoint at emilyalsentzer/Bio_ClinicalBERT were not used when initializing BertModel: ['cls.predictions.bias', 'cls.seq_relationship.bias', 'cls.seq_relationship.weight', 'cls.predictions.transform.LayerNorm.bias', 'cls.predictions.transform.LayerNorm.weight', 'cls.predictions.transform.dense.weight', 'cls.predictions.transform.dense.bias', 'cls.predictions.decoder.weight']\n",
      "- This IS expected if you are initializing BertModel from the checkpoint of a model trained on another task or with another architecture (e.g. initializing a BertForSequenceClassification model from a BertForPreTraining model).\n",
      "- This IS NOT expected if you are initializing BertModel from the checkpoint of a model that you expect to be exactly identical (initializing a BertForSequenceClassification model from a BertForSequenceClassification model).\n",
      "/Users/dongyoun/projects/dongYoun2/MedCLIP_eval/medclip/modeling_medclip.py:213: FutureWarning: You are using `torch.load` with `weights_only=False` (the current default value), which uses the default pickle module implicitly. It is possible to construct malicious pickle data which will execute arbitrary code during unpickling (See https://github.com/pytorch/pytorch/blob/main/SECURITY.md#untrusted-models for more details). In a future release, the default value for `weights_only` will be flipped to `True`. This limits the functions that could be executed during unpickling. Arbitrary objects will no longer be allowed to be loaded via this mode unless they are explicitly allowlisted by the user via `torch.serialization.add_safe_globals`. We recommend you start setting `weights_only=True` for any use case where you don't have full control of the loaded file. Please open an issue on GitHub for any issues related to this experimental feature.\n",
      "  state_dict = torch.load(os.path.join(input_dir, constants.WEIGHTS_NAME), map_location=\"cpu\")\n"
     ]
    },
    {
     "name": "stdout",
     "output_type": "stream",
     "text": [
      "Model moved to mps\n",
      "load model weight from: pretrained/medclip-vit\n",
      "Model and classifier ready for evaluation\n"
     ]
    }
   ],
   "source": [
    "# Initialize model and classifier (reusing from earlier cells)\n",
    "processor = MedCLIPProcessor()\n",
    "model = MedCLIPModel.from_pretrained(vision_model='vit', device='mps')\n",
    "clf = PromptClassifier(model, ensemble=True)\n",
    "clf.to('mps')\n",
    "clf.eval()\n",
    "\n",
    "print(\"Model and classifier ready for evaluation\")"
   ]
  },
  {
   "cell_type": "code",
   "execution_count": 31,
   "id": "ac97c1cd",
   "metadata": {},
   "outputs": [
    {
     "name": "stdout",
     "output_type": "stream",
     "text": [
      "Evaluator created, starting evaluation...\n"
     ]
    }
   ],
   "source": [
    "# Create evaluator\n",
    "evaluator = Evaluator(\n",
    "    medclip_clf=clf,\n",
    "    eval_dataloader=dataloader,\n",
    "    mode='multiclass'\n",
    ")\n",
    "\n",
    "print(\"Evaluator created, starting evaluation...\")"
   ]
  },
  {
   "cell_type": "code",
   "execution_count": 32,
   "id": "feb04168",
   "metadata": {},
   "outputs": [
    {
     "name": "stderr",
     "output_type": "stream",
     "text": [
      "Evaluation:   0%|          | 0/219 [00:00<?, ?it/s]"
     ]
    },
    {
     "name": "stdout",
     "output_type": "stream",
     "text": [
      "huggingface/tokenizers: The current process just got forked, after parallelism has already been used. Disabling parallelism to avoid deadlocks...\n",
      "To disable this warning, you can either:\n",
      "\t- Avoid using `tokenizers` before the fork if possible\n",
      "\t- Explicitly set the environment variable TOKENIZERS_PARALLELISM=(true | false)\n",
      "huggingface/tokenizers: The current process just got forked, after parallelism has already been used. Disabling parallelism to avoid deadlocks...\n",
      "To disable this warning, you can either:\n",
      "\t- Avoid using `tokenizers` before the fork if possible\n",
      "\t- Explicitly set the environment variable TOKENIZERS_PARALLELISM=(true | false)\n"
     ]
    },
    {
     "name": "stderr",
     "output_type": "stream",
     "text": [
      "Evaluation: 100%|██████████| 219/219 [05:25<00:00,  1.49s/it]"
     ]
    },
    {
     "name": "stdout",
     "output_type": "stream",
     "text": [
      "\n",
      "==================================================\n",
      "EVALUATION RESULTS\n",
      "==================================================\n",
      "acc                 : 0.5359\n",
      "precision           : 0.5432\n",
      "recall              : 0.5359\n",
      "f1-score            : 0.5198\n",
      "==================================================\n"
     ]
    },
    {
     "name": "stderr",
     "output_type": "stream",
     "text": [
      "\n"
     ]
    }
   ],
   "source": [
    "# Run evaluation\n",
    "results = evaluator.evaluate()\n",
    "\n",
    "# Display results\n",
    "print(\"\\n\" + \"=\"*50)\n",
    "print(\"EVALUATION RESULTS\")\n",
    "print(\"=\"*50)\n",
    "for metric, value in results.items():\n",
    "    if metric not in ['pred', 'labels']:\n",
    "        print(f\"{metric:20s}: {value:.4f}\")\n",
    "print(\"=\"*50)\n"
   ]
  },
  {
   "cell_type": "code",
   "execution_count": 23,
   "id": "fe4f4a19",
   "metadata": {},
   "outputs": [
    {
     "data": {
      "text/html": [
       "<div>\n",
       "<style scoped>\n",
       "    .dataframe tbody tr th:only-of-type {\n",
       "        vertical-align: middle;\n",
       "    }\n",
       "\n",
       "    .dataframe tbody tr th {\n",
       "        vertical-align: top;\n",
       "    }\n",
       "\n",
       "    .dataframe thead th {\n",
       "        text-align: right;\n",
       "    }\n",
       "</style>\n",
       "<table border=\"1\" class=\"dataframe\">\n",
       "  <thead>\n",
       "    <tr style=\"text-align: right;\">\n",
       "      <th></th>\n",
       "      <th>Image Index</th>\n",
       "      <th>Finding Labels</th>\n",
       "      <th>Follow-up #</th>\n",
       "      <th>Patient ID</th>\n",
       "      <th>Patient Age</th>\n",
       "      <th>Patient Gender</th>\n",
       "      <th>View Position</th>\n",
       "      <th>OriginalImage[Width</th>\n",
       "      <th>Height]</th>\n",
       "      <th>OriginalImagePixelSpacing[x</th>\n",
       "      <th>...</th>\n",
       "      <th>Unnamed: 11</th>\n",
       "      <th>diseases</th>\n",
       "      <th>disease_count</th>\n",
       "      <th>disease</th>\n",
       "      <th>imgpath</th>\n",
       "      <th>Edema</th>\n",
       "      <th>Atelectasis</th>\n",
       "      <th>Pleural Effusion</th>\n",
       "      <th>Cardiomegaly</th>\n",
       "      <th>Consolidation</th>\n",
       "    </tr>\n",
       "  </thead>\n",
       "  <tbody>\n",
       "    <tr>\n",
       "      <th>0</th>\n",
       "      <td>00022470_009.png</td>\n",
       "      <td>Edema|Nodule</td>\n",
       "      <td>9</td>\n",
       "      <td>22470</td>\n",
       "      <td>46</td>\n",
       "      <td>M</td>\n",
       "      <td>AP</td>\n",
       "      <td>3056</td>\n",
       "      <td>2544</td>\n",
       "      <td>0.139</td>\n",
       "      <td>...</td>\n",
       "      <td>NaN</td>\n",
       "      <td>['Edema']</td>\n",
       "      <td>1</td>\n",
       "      <td>Edema</td>\n",
       "      <td>data/nih/images_010/images/00022470_009.png</td>\n",
       "      <td>1</td>\n",
       "      <td>0</td>\n",
       "      <td>0</td>\n",
       "      <td>0</td>\n",
       "      <td>0</td>\n",
       "    </tr>\n",
       "    <tr>\n",
       "      <th>1</th>\n",
       "      <td>00004858_056.png</td>\n",
       "      <td>Atelectasis</td>\n",
       "      <td>56</td>\n",
       "      <td>4858</td>\n",
       "      <td>45</td>\n",
       "      <td>F</td>\n",
       "      <td>PA</td>\n",
       "      <td>2992</td>\n",
       "      <td>2991</td>\n",
       "      <td>0.143</td>\n",
       "      <td>...</td>\n",
       "      <td>NaN</td>\n",
       "      <td>['Atelectasis']</td>\n",
       "      <td>1</td>\n",
       "      <td>Atelectasis</td>\n",
       "      <td>data/nih/images_003/images/00004858_056.png</td>\n",
       "      <td>0</td>\n",
       "      <td>1</td>\n",
       "      <td>0</td>\n",
       "      <td>0</td>\n",
       "      <td>0</td>\n",
       "    </tr>\n",
       "    <tr>\n",
       "      <th>2</th>\n",
       "      <td>00014626_023.png</td>\n",
       "      <td>Effusion|Infiltration</td>\n",
       "      <td>23</td>\n",
       "      <td>14626</td>\n",
       "      <td>44</td>\n",
       "      <td>F</td>\n",
       "      <td>AP</td>\n",
       "      <td>2692</td>\n",
       "      <td>2544</td>\n",
       "      <td>0.139</td>\n",
       "      <td>...</td>\n",
       "      <td>NaN</td>\n",
       "      <td>['Effusion']</td>\n",
       "      <td>1</td>\n",
       "      <td>Pleural Effusion</td>\n",
       "      <td>data/nih/images_007/images/00014626_023.png</td>\n",
       "      <td>0</td>\n",
       "      <td>0</td>\n",
       "      <td>1</td>\n",
       "      <td>0</td>\n",
       "      <td>0</td>\n",
       "    </tr>\n",
       "    <tr>\n",
       "      <th>3</th>\n",
       "      <td>00016414_002.png</td>\n",
       "      <td>Cardiomegaly</td>\n",
       "      <td>2</td>\n",
       "      <td>16414</td>\n",
       "      <td>39</td>\n",
       "      <td>M</td>\n",
       "      <td>PA</td>\n",
       "      <td>2704</td>\n",
       "      <td>2781</td>\n",
       "      <td>0.143</td>\n",
       "      <td>...</td>\n",
       "      <td>NaN</td>\n",
       "      <td>['Cardiomegaly']</td>\n",
       "      <td>1</td>\n",
       "      <td>Cardiomegaly</td>\n",
       "      <td>data/nih/images_008/images/00016414_002.png</td>\n",
       "      <td>0</td>\n",
       "      <td>0</td>\n",
       "      <td>0</td>\n",
       "      <td>1</td>\n",
       "      <td>0</td>\n",
       "    </tr>\n",
       "    <tr>\n",
       "      <th>4</th>\n",
       "      <td>00019805_005.png</td>\n",
       "      <td>Consolidation|Infiltration|Mass|Nodule</td>\n",
       "      <td>5</td>\n",
       "      <td>19805</td>\n",
       "      <td>29</td>\n",
       "      <td>M</td>\n",
       "      <td>AP</td>\n",
       "      <td>3056</td>\n",
       "      <td>2544</td>\n",
       "      <td>0.139</td>\n",
       "      <td>...</td>\n",
       "      <td>NaN</td>\n",
       "      <td>['Consolidation']</td>\n",
       "      <td>1</td>\n",
       "      <td>Consolidation</td>\n",
       "      <td>data/nih/images_009/images/00019805_005.png</td>\n",
       "      <td>0</td>\n",
       "      <td>0</td>\n",
       "      <td>0</td>\n",
       "      <td>0</td>\n",
       "      <td>1</td>\n",
       "    </tr>\n",
       "  </tbody>\n",
       "</table>\n",
       "<p>5 rows × 21 columns</p>\n",
       "</div>"
      ],
      "text/plain": [
       "        Image Index                          Finding Labels  Follow-up #  \\\n",
       "0  00022470_009.png                            Edema|Nodule            9   \n",
       "1  00004858_056.png                             Atelectasis           56   \n",
       "2  00014626_023.png                   Effusion|Infiltration           23   \n",
       "3  00016414_002.png                            Cardiomegaly            2   \n",
       "4  00019805_005.png  Consolidation|Infiltration|Mass|Nodule            5   \n",
       "\n",
       "   Patient ID  Patient Age Patient Gender View Position  OriginalImage[Width  \\\n",
       "0       22470           46              M            AP                 3056   \n",
       "1        4858           45              F            PA                 2992   \n",
       "2       14626           44              F            AP                 2692   \n",
       "3       16414           39              M            PA                 2704   \n",
       "4       19805           29              M            AP                 3056   \n",
       "\n",
       "   Height]  OriginalImagePixelSpacing[x  ...  Unnamed: 11           diseases  \\\n",
       "0     2544                        0.139  ...          NaN          ['Edema']   \n",
       "1     2991                        0.143  ...          NaN    ['Atelectasis']   \n",
       "2     2544                        0.139  ...          NaN       ['Effusion']   \n",
       "3     2781                        0.143  ...          NaN   ['Cardiomegaly']   \n",
       "4     2544                        0.139  ...          NaN  ['Consolidation']   \n",
       "\n",
       "  disease_count           disease  \\\n",
       "0             1             Edema   \n",
       "1             1       Atelectasis   \n",
       "2             1  Pleural Effusion   \n",
       "3             1      Cardiomegaly   \n",
       "4             1     Consolidation   \n",
       "\n",
       "                                       imgpath Edema  Atelectasis  \\\n",
       "0  data/nih/images_010/images/00022470_009.png     1            0   \n",
       "1  data/nih/images_003/images/00004858_056.png     0            1   \n",
       "2  data/nih/images_007/images/00014626_023.png     0            0   \n",
       "3  data/nih/images_008/images/00016414_002.png     0            0   \n",
       "4  data/nih/images_009/images/00019805_005.png     0            0   \n",
       "\n",
       "   Pleural Effusion  Cardiomegaly  Consolidation  \n",
       "0                 0             0              0  \n",
       "1                 0             0              0  \n",
       "2                 1             0              0  \n",
       "3                 0             1              0  \n",
       "4                 0             0              1  \n",
       "\n",
       "[5 rows x 21 columns]"
      ]
     },
     "execution_count": 23,
     "metadata": {},
     "output_type": "execute_result"
    }
   ],
   "source": [
    "df.head()"
   ]
  }
 ],
 "metadata": {
  "kernelspec": {
   "display_name": "medclip_eval",
   "language": "python",
   "name": "python3"
  },
  "language_info": {
   "codemirror_mode": {
    "name": "ipython",
    "version": 3
   },
   "file_extension": ".py",
   "mimetype": "text/x-python",
   "name": "python",
   "nbconvert_exporter": "python",
   "pygments_lexer": "ipython3",
   "version": "3.10.19"
  }
 },
 "nbformat": 4,
 "nbformat_minor": 5
}
