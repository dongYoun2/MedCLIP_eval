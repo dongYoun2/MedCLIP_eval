{
 "cells": [
  {
   "cell_type": "code",
   "execution_count": 1,
   "id": "6455ef98",
   "metadata": {},
   "outputs": [],
   "source": [
    "%load_ext autoreload\n",
    "%autoreload 2"
   ]
  },
  {
   "cell_type": "code",
   "execution_count": 2,
   "id": "7951f8ed",
   "metadata": {},
   "outputs": [],
   "source": [
    "from pathlib import Path\n",
    "\n",
    "import pandas as pd\n",
    "import numpy as np\n",
    "import torch\n",
    "from PIL import Image\n",
    "from torch.utils.data import DataLoader\n",
    "from sklearn.metrics import confusion_matrix\n",
    "import matplotlib.pyplot as plt\n",
    "import seaborn as sns\n",
    "\n",
    "from medclip import MedCLIPModel, MedCLIPProcessor, PromptClassifier\n",
    "from medclip.prompts import process_class_prompts, generate_chexpert_class_prompts, generate_covid_class_prompts\n",
    "from medclip.dataset import ZeroShotImageDataset, ZeroShotImageCollator\n",
    "from medclip.evaluator import Evaluator\n",
    "\n"
   ]
  },
  {
   "cell_type": "markdown",
   "id": "b2d23da9",
   "metadata": {},
   "source": [
    "## Step 1: Create metadata CSV for COVID dataset\n",
    "\n",
    "The `ZeroShotImageDataset` expects a CSV file in `local_data/` directory with columns: `imgpath` and class labels.\n"
   ]
  },
  {
   "cell_type": "code",
   "execution_count": 3,
   "id": "fac1fdef",
   "metadata": {},
   "outputs": [
    {
     "name": "stdout",
     "output_type": "stream",
     "text": [
      "Found 3616 COVID images\n",
      "Found 10192 Normal images\n",
      "\n",
      "Sampled 3000 COVID images\n",
      "Sampled 3000 Normal images\n",
      "\n",
      "Total images: 6000\n",
      "\n",
      "DataFrame shape: (6000, 3)\n",
      "\n",
      "Class distribution:\n",
      "COVID     3000\n",
      "Normal    3000\n",
      "dtype: int64\n",
      "\n",
      "Saved metadata to: local_data/covid-test-meta.csv\n"
     ]
    }
   ],
   "source": [
    "# Create metadata CSV for COVID test dataset\n",
    "covid_dir = Path('data/covid/COVID-19_Radiography_Dataset')\n",
    "\n",
    "# Collect COVID images\n",
    "covid_imgs = list((covid_dir / 'COVID' / 'images').glob('*.png'))\n",
    "normal_imgs = list((covid_dir / 'Normal' / 'images').glob('*.png'))\n",
    "\n",
    "print(f\"Found {len(covid_imgs)} COVID images\")\n",
    "print(f\"Found {len(normal_imgs)} Normal images\")\n",
    "\n",
    "num_sample_per_class = 3000\n",
    "np.random.seed(42)\n",
    "\n",
    "# Sample images\n",
    "covid_imgs_sampled = np.random.choice(covid_imgs, size=num_sample_per_class, replace=False)\n",
    "normal_imgs_sampled = np.random.choice(normal_imgs, size=num_sample_per_class, replace=False)\n",
    "\n",
    "print(f\"\\nSampled {len(covid_imgs_sampled)} COVID images\")\n",
    "print(f\"Sampled {len(normal_imgs_sampled)} Normal images\")\n",
    "\n",
    "# Create DataFrame\n",
    "data = []\n",
    "for img_path in covid_imgs_sampled:\n",
    "    data.append({\n",
    "        'imgpath': str(img_path),\n",
    "        'COVID': 1,\n",
    "        'Normal': 0,\n",
    "    })\n",
    "\n",
    "for img_path in normal_imgs_sampled:\n",
    "    data.append({\n",
    "        'imgpath': str(img_path),\n",
    "        'COVID': 0,\n",
    "        'Normal': 1,\n",
    "    })\n",
    "\n",
    "df = pd.DataFrame(data)\n",
    "print(f\"\\nTotal images: {len(df)}\")\n",
    "print(f\"\\nDataFrame shape: {df.shape}\")\n",
    "print(f\"\\nClass distribution:\")\n",
    "print(df[['COVID', 'Normal']].sum())\n",
    "\n",
    "\n",
    "# Save sampled csv\n",
    "output_path = Path('local_data/covid-test-meta.csv')\n",
    "output_path.parent.mkdir(exist_ok=True)\n",
    "df.to_csv(output_path)\n",
    "print(f\"\\nSaved metadata to: {output_path}\")"
   ]
  },
  {
   "cell_type": "markdown",
   "id": "f818f49b",
   "metadata": {},
   "source": [
    "## Step 2: Create ZeroShotImageDataset and DataLoader"
   ]
  },
  {
   "cell_type": "code",
   "execution_count": 4,
   "id": "7f670393",
   "metadata": {},
   "outputs": [
    {
     "name": "stdout",
     "output_type": "stream",
     "text": [
      "load data from ./local_data/covid-test-meta.csv\n",
      "Dataset size: 6000\n",
      "Class names: ['COVID', 'Normal']\n",
      "\n",
      "Sample image shape: torch.Size([1, 1, 224, 224])\n",
      "Sample label:\n",
      "  COVID Normal\n",
      "0     1      0\n"
     ]
    }
   ],
   "source": [
    "# Define class names for COVID binary classification\n",
    "class_names = ['COVID', 'Normal']\n",
    "\n",
    "# Create dataset\n",
    "dataset = ZeroShotImageDataset(\n",
    "    datalist=['covid-test'],  # will load from local_data/covid-test-meta.csv\n",
    "    class_names=class_names\n",
    ")\n",
    "\n",
    "print(f\"Dataset size: {len(dataset)}\")\n",
    "print(f\"Class names: {class_names}\")\n",
    "\n",
    "# Check a sample\n",
    "img, label = dataset[0]\n",
    "print(f\"\\nSample image shape: {img.shape}\")\n",
    "print(f\"Sample label:\")\n",
    "print(label)"
   ]
  },
  {
   "cell_type": "code",
   "execution_count": 5,
   "id": "9ddab24c",
   "metadata": {},
   "outputs": [
    {
     "name": "stdout",
     "output_type": "stream",
     "text": [
      "sample 12 num of prompts for COVID from total 12\n",
      "\n",
      "Generated prompts for classes: ['COVID']\n",
      "Number of prompts per class: [12]\n",
      "\n",
      "Available COVID prompts:\n",
      "  COVID: 12 prompts\n",
      "    Examples: ['patchy ground glass opacity in peripheral', 'patchy ground glass opacity in mid']\n"
     ]
    }
   ],
   "source": [
    "# Generate COVID class prompts\n",
    "covid_prompts = generate_covid_class_prompts(n=12)\n",
    "print(f\"\\nGenerated prompts for classes: {list(covid_prompts.keys())}\")\n",
    "print(f\"Number of prompts per class: {[len(v) for v in covid_prompts.values()]}\")\n",
    "\n",
    "print(f\"\\nAvailable COVID prompts:\")\n",
    "for cls, prompts_list in covid_prompts.items():\n",
    "    print(f\"  {cls}: {len(prompts_list)} prompts\")\n",
    "    print(f\"    Examples: {prompts_list[:2]}\")"
   ]
  },
  {
   "cell_type": "code",
   "execution_count": 6,
   "id": "1a1004bc",
   "metadata": {},
   "outputs": [
    {
     "name": "stdout",
     "output_type": "stream",
     "text": [
      "Class prompts prepared:\n",
      "  COVID: 12 prompts\n",
      "  Normal: 12 prompts\n"
     ]
    }
   ],
   "source": [
    "# Create prompts for both COVID and Normal classes\n",
    "# For Normal, we'll use \"No Finding\" style prompts\n",
    "cls_prompts_dict = {\n",
    "    'COVID': covid_prompts['COVID'],\n",
    "    'Normal': [\n",
    "        'no findings',\n",
    "        'no evidence of pneumonia',\n",
    "        'normal chest x-ray',\n",
    "        'clear lungs',\n",
    "        'no acute disease',\n",
    "        'no radiographic abnormality',\n",
    "        'healthy chest radiograph',\n",
    "        'unremarkable chest x-ray',\n",
    "        'no pathological findings',\n",
    "        'normal cardiomediastinal silhouette',\n",
    "        'no infiltrates',\n",
    "        'normal pulmonary vasculature'\n",
    "    ]\n",
    "}\n",
    "\n",
    "print(f\"Class prompts prepared:\")\n",
    "for cls, prompts in cls_prompts_dict.items():\n",
    "    print(f\"  {cls}: {len(prompts)} prompts\")\n"
   ]
  },
  {
   "cell_type": "code",
   "execution_count": 7,
   "id": "f9e390d9",
   "metadata": {},
   "outputs": [
    {
     "name": "stderr",
     "output_type": "stream",
     "text": [
      "/Users/dongyoun/miniconda3/envs/medclip_eval/lib/python3.10/site-packages/huggingface_hub/file_download.py:945: FutureWarning: `resume_download` is deprecated and will be removed in version 1.0.0. Downloads always resume when possible. If you want to force a new download, use `force_download=True`.\n",
      "  warnings.warn(\n"
     ]
    },
    {
     "name": "stdout",
     "output_type": "stream",
     "text": [
      "DataLoader created with batch_size=32\n",
      "Number of batches: 188\n",
      "huggingface/tokenizers: The current process just got forked, after parallelism has already been used. Disabling parallelism to avoid deadlocks...\n",
      "To disable this warning, you can either:\n",
      "\t- Avoid using `tokenizers` before the fork if possible\n",
      "\t- Explicitly set the environment variable TOKENIZERS_PARALLELISM=(true | false)\n",
      "huggingface/tokenizers: The current process just got forked, after parallelism has already been used. Disabling parallelism to avoid deadlocks...\n",
      "To disable this warning, you can either:\n",
      "\t- Avoid using `tokenizers` before the fork if possible\n",
      "\t- Explicitly set the environment variable TOKENIZERS_PARALLELISM=(true | false)\n",
      "huggingface/tokenizers: The current process just got forked, after parallelism has already been used. Disabling parallelism to avoid deadlocks...\n",
      "To disable this warning, you can either:\n",
      "\t- Avoid using `tokenizers` before the fork if possible\n",
      "\t- Explicitly set the environment variable TOKENIZERS_PARALLELISM=(true | false)\n",
      "huggingface/tokenizers: The current process just got forked, after parallelism has already been used. Disabling parallelism to avoid deadlocks...\n",
      "To disable this warning, you can either:\n",
      "\t- Avoid using `tokenizers` before the fork if possible\n",
      "\t- Explicitly set the environment variable TOKENIZERS_PARALLELISM=(true | false)\n",
      "\n",
      "Sample batch keys: dict_keys(['pixel_values', 'prompt_inputs', 'labels'])\n",
      "Pixel values shape: torch.Size([32, 3, 224, 224])\n",
      "Labels shape: torch.Size([32])\n",
      "Prompt inputs keys: dict_keys(['COVID', 'Normal'])\n"
     ]
    }
   ],
   "source": [
    "# Create collator with prompts\n",
    "collator = ZeroShotImageCollator(\n",
    "    mode='binary',  # binary classification: COVID vs Normal\n",
    "    cls_prompts=cls_prompts_dict\n",
    ")\n",
    "\n",
    "# Create DataLoader\n",
    "batch_size = 32\n",
    "dataloader = DataLoader(\n",
    "    dataset,\n",
    "    batch_size=batch_size,\n",
    "    shuffle=False,\n",
    "    collate_fn=collator,\n",
    "    num_workers=2\n",
    ")\n",
    "\n",
    "print(f\"DataLoader created with batch_size={batch_size}\")\n",
    "print(f\"Number of batches: {len(dataloader)}\")\n",
    "\n",
    "# Test the dataloader\n",
    "sample_batch = next(iter(dataloader))\n",
    "print(f\"\\nSample batch keys: {sample_batch.keys()}\")\n",
    "print(f\"Pixel values shape: {sample_batch['pixel_values'].shape}\")\n",
    "print(f\"Labels shape: {sample_batch['labels'].shape}\")\n",
    "print(f\"Prompt inputs keys: {sample_batch['prompt_inputs'].keys()}\")"
   ]
  },
  {
   "cell_type": "markdown",
   "id": "78c84fd4",
   "metadata": {},
   "source": [
    "## Step 3: Evaluate using the PromptClassifier and Evaluator"
   ]
  },
  {
   "cell_type": "code",
   "execution_count": 8,
   "id": "2dcaef01",
   "metadata": {},
   "outputs": [
    {
     "name": "stderr",
     "output_type": "stream",
     "text": [
      "/Users/dongyoun/miniconda3/envs/medclip_eval/lib/python3.10/site-packages/torchvision/models/_utils.py:208: UserWarning: The parameter 'pretrained' is deprecated since 0.13 and may be removed in the future, please use 'weights' instead.\n",
      "  warnings.warn(\n",
      "/Users/dongyoun/miniconda3/envs/medclip_eval/lib/python3.10/site-packages/torchvision/models/_utils.py:223: UserWarning: Arguments other than a weight enum or `None` for 'weights' are deprecated since 0.13 and may be removed in the future. The current behavior is equivalent to passing `weights=ResNet50_Weights.IMAGENET1K_V1`. You can also use `weights=ResNet50_Weights.DEFAULT` to get the most up-to-date weights.\n",
      "  warnings.warn(msg)\n",
      "/Users/dongyoun/miniconda3/envs/medclip_eval/lib/python3.10/site-packages/transformers/modeling_utils.py:399: FutureWarning: You are using `torch.load` with `weights_only=False` (the current default value), which uses the default pickle module implicitly. It is possible to construct malicious pickle data which will execute arbitrary code during unpickling (See https://github.com/pytorch/pytorch/blob/main/SECURITY.md#untrusted-models for more details). In a future release, the default value for `weights_only` will be flipped to `True`. This limits the functions that could be executed during unpickling. Arbitrary objects will no longer be allowed to be loaded via this mode unless they are explicitly allowlisted by the user via `torch.serialization.add_safe_globals`. We recommend you start setting `weights_only=True` for any use case where you don't have full control of the loaded file. Please open an issue on GitHub for any issues related to this experimental feature.\n",
      "  return torch.load(checkpoint_file, map_location=\"cpu\")\n",
      "Some weights of the model checkpoint at emilyalsentzer/Bio_ClinicalBERT were not used when initializing BertModel: ['cls.predictions.bias', 'cls.predictions.transform.LayerNorm.bias', 'cls.predictions.transform.dense.weight', 'cls.seq_relationship.bias', 'cls.predictions.transform.dense.bias', 'cls.predictions.decoder.weight', 'cls.predictions.transform.LayerNorm.weight', 'cls.seq_relationship.weight']\n",
      "- This IS expected if you are initializing BertModel from the checkpoint of a model trained on another task or with another architecture (e.g. initializing a BertForSequenceClassification model from a BertForPreTraining model).\n",
      "- This IS NOT expected if you are initializing BertModel from the checkpoint of a model that you expect to be exactly identical (initializing a BertForSequenceClassification model from a BertForSequenceClassification model).\n",
      "/Users/dongyoun/projects/dongYoun2/MedCLIP_eval/medclip/modeling_medclip.py:213: FutureWarning: You are using `torch.load` with `weights_only=False` (the current default value), which uses the default pickle module implicitly. It is possible to construct malicious pickle data which will execute arbitrary code during unpickling (See https://github.com/pytorch/pytorch/blob/main/SECURITY.md#untrusted-models for more details). In a future release, the default value for `weights_only` will be flipped to `True`. This limits the functions that could be executed during unpickling. Arbitrary objects will no longer be allowed to be loaded via this mode unless they are explicitly allowlisted by the user via `torch.serialization.add_safe_globals`. We recommend you start setting `weights_only=True` for any use case where you don't have full control of the loaded file. Please open an issue on GitHub for any issues related to this experimental feature.\n",
      "  state_dict = torch.load(os.path.join(input_dir, constants.WEIGHTS_NAME), map_location=\"cpu\")\n"
     ]
    },
    {
     "name": "stdout",
     "output_type": "stream",
     "text": [
      "Model moved to mps\n",
      "load model weight from: pretrained/medclip-resnet\n",
      "Model and classifier ready for evaluation\n"
     ]
    }
   ],
   "source": [
    "# Initialize model and classifier (reusing from earlier cells)\n",
    "processor = MedCLIPProcessor()\n",
    "model = MedCLIPModel.from_pretrained(vision_model='resnet', device='mps')\n",
    "clf = PromptClassifier(model, ensemble=False)\n",
    "clf.to('mps')\n",
    "clf.eval()\n",
    "\n",
    "print(\"Model and classifier ready for evaluation\")"
   ]
  },
  {
   "cell_type": "code",
   "execution_count": 9,
   "id": "7a223196",
   "metadata": {},
   "outputs": [
    {
     "name": "stdout",
     "output_type": "stream",
     "text": [
      "Evaluator created, starting evaluation...\n"
     ]
    }
   ],
   "source": [
    "# Create evaluator\n",
    "evaluator = Evaluator(\n",
    "    medclip_clf=clf,\n",
    "    eval_dataloader=dataloader,\n",
    "    mode='binary'  # binary classification\n",
    ")\n",
    "\n",
    "print(\"Evaluator created, starting evaluation...\")"
   ]
  },
  {
   "cell_type": "code",
   "execution_count": 10,
   "id": "c5d71054",
   "metadata": {},
   "outputs": [
    {
     "name": "stderr",
     "output_type": "stream",
     "text": [
      "Evaluation:   0%|          | 0/188 [00:00<?, ?it/s]"
     ]
    },
    {
     "name": "stdout",
     "output_type": "stream",
     "text": [
      "huggingface/tokenizers: The current process just got forked, after parallelism has already been used. Disabling parallelism to avoid deadlocks...\n",
      "To disable this warning, you can either:\n",
      "\t- Avoid using `tokenizers` before the fork if possible\n",
      "\t- Explicitly set the environment variable TOKENIZERS_PARALLELISM=(true | false)\n",
      "huggingface/tokenizers: The current process just got forked, after parallelism has already been used. Disabling parallelism to avoid deadlocks...\n",
      "To disable this warning, you can either:\n",
      "\t- Avoid using `tokenizers` before the fork if possible\n",
      "\t- Explicitly set the environment variable TOKENIZERS_PARALLELISM=(true | false)\n"
     ]
    },
    {
     "name": "stderr",
     "output_type": "stream",
     "text": [
      "Evaluation: 100%|██████████| 188/188 [01:13<00:00,  2.57it/s]"
     ]
    },
    {
     "name": "stdout",
     "output_type": "stream",
     "text": [
      "\n",
      "==================================================\n",
      "EVALUATION RESULTS\n",
      "==================================================\n",
      "acc                 : 0.8082\n",
      "precision           : 0.8086\n",
      "recall              : 0.8082\n",
      "f1-score            : 0.8081\n",
      "==================================================\n"
     ]
    },
    {
     "name": "stderr",
     "output_type": "stream",
     "text": [
      "\n"
     ]
    }
   ],
   "source": [
    "# Run evaluation\n",
    "results = evaluator.evaluate()\n",
    "\n",
    "# Display results\n",
    "print(\"\\n\" + \"=\"*50)\n",
    "print(\"EVALUATION RESULTS\")\n",
    "print(\"=\"*50)\n",
    "for metric, value in results.items():\n",
    "    if metric not in ['pred', 'labels']:\n",
    "        print(f\"{metric:20s}: {value:.4f}\")\n",
    "print(\"=\"*50)\n"
   ]
  },
  {
   "cell_type": "code",
   "execution_count": 11,
   "id": "a009baa9",
   "metadata": {},
   "outputs": [
    {
     "data": {
      "text/plain": [
       "{'pred': array([[ 0.23245667, -0.3774442 ],\n",
       "        [ 0.08936121, -0.612458  ],\n",
       "        [ 0.17332655, -0.5960146 ],\n",
       "        ...,\n",
       "        [-0.55776083, -0.03824956],\n",
       "        [-0.65960926, -0.05561868],\n",
       "        [-0.44368201,  0.1290193 ]], dtype=float32),\n",
       " 'labels': array([0, 0, 0, ..., 1, 1, 1]),\n",
       " 'acc': 0.8081666666666667,\n",
       " 'precision': 0.8085891251790367,\n",
       " 'recall': 0.8081666666666667,\n",
       " 'f1-score': 0.8081009892302307}"
      ]
     },
     "execution_count": 11,
     "metadata": {},
     "output_type": "execute_result"
    }
   ],
   "source": [
    "results"
   ]
  },
  {
   "cell_type": "markdown",
   "id": "acba4923",
   "metadata": {},
   "source": [
    "## Optional: Analyze predictions in detail\n"
   ]
  },
  {
   "cell_type": "code",
   "execution_count": 12,
   "id": "c31dd4f4",
   "metadata": {},
   "outputs": [
    {
     "name": "stdout",
     "output_type": "stream",
     "text": [
      "Predictions shape: (6000, 2)\n",
      "Labels shape: (6000,)\n",
      "\n",
      "Predicted class distribution:\n",
      "  COVID (predicted): 2889\n",
      "  Normal (predicted): 3111\n",
      "\n",
      "True class distribution:\n",
      "  COVID (true): 3000\n",
      "  Normal (true): 3000\n"
     ]
    }
   ],
   "source": [
    "# Get predictions and labels\n",
    "predictions = results['pred']\n",
    "labels = results['labels']\n",
    "\n",
    "# Convert to predicted labels\n",
    "pred_scores = torch.tensor(predictions).sigmoid().numpy()\n",
    "pred_labels = np.argmax(pred_scores, 1)\n",
    "\n",
    "print(f\"Predictions shape: {predictions.shape}\")\n",
    "print(f\"Labels shape: {labels.shape}\")\n",
    "print(f\"\\nPredicted class distribution:\")\n",
    "print(f\"  COVID (predicted): {np.sum(pred_labels == 0)}\")\n",
    "print(f\"  Normal (predicted): {np.sum(pred_labels == 1)}\")\n",
    "print(f\"\\nTrue class distribution:\")\n",
    "print(f\"  COVID (true): {np.sum(labels == 0)}\")\n",
    "print(f\"  Normal (true): {np.sum(labels == 1)}\")\n"
   ]
  },
  {
   "cell_type": "code",
   "execution_count": 13,
   "id": "8aaaebd7",
   "metadata": {},
   "outputs": [
    {
     "name": "stdout",
     "output_type": "stream",
     "text": [
      "\n",
      "Confusion Matrix:\n",
      "                Predicted\n",
      "              COVID  Normal\n",
      "Actual COVID   2369    631\n",
      "       Normal   520   2480\n"
     ]
    },
    {
     "data": {
      "image/png": "[encoded data removed]",
      "text/plain": [
       "<Figure size 800x600 with 2 Axes>"
      ]
     },
     "metadata": {},
     "output_type": "display_data"
    }
   ],
   "source": [
    "# Show confusion matrix\n",
    "cm = confusion_matrix(labels, pred_labels)\n",
    "print(\"\\nConfusion Matrix:\")\n",
    "print(f\"                Predicted\")\n",
    "print(f\"              COVID  Normal\")\n",
    "print(f\"Actual COVID   {cm[0,0]:4d}   {cm[0,1]:4d}\")\n",
    "print(f\"       Normal  {cm[1,0]:4d}   {cm[1,1]:4d}\")\n",
    "\n",
    "# Visualize confusion matrix\n",
    "plt.figure(figsize=(8, 6))\n",
    "sns.heatmap(cm, annot=True, fmt='d', cmap='Blues',\n",
    "            xticklabels=['COVID', 'Normal'],\n",
    "            yticklabels=['COVID', 'Normal'])\n",
    "plt.title('Confusion Matrix - COVID vs Normal Classification')\n",
    "plt.ylabel('True Label')\n",
    "plt.xlabel('Predicted Label')\n",
    "plt.show()\n"
   ]
  },
  {
   "cell_type": "code",
   "execution_count": 14,
   "id": "84ef6e47",
   "metadata": {},
   "outputs": [
    {
     "name": "stdout",
     "output_type": "stream",
     "text": [
      "huggingface/tokenizers: The current process just got forked, after parallelism has already been used. Disabling parallelism to avoid deadlocks...\n",
      "To disable this warning, you can either:\n",
      "\t- Avoid using `tokenizers` before the fork if possible\n",
      "\t- Explicitly set the environment variable TOKENIZERS_PARALLELISM=(true | false)\n",
      "huggingface/tokenizers: The current process just got forked, after parallelism has already been used. Disabling parallelism to avoid deadlocks...\n",
      "To disable this warning, you can either:\n",
      "\t- Avoid using `tokenizers` before the fork if possible\n",
      "\t- Explicitly set the environment variable TOKENIZERS_PARALLELISM=(true | false)\n",
      "Class name to index mapping:\n",
      "  Index 0 = COVID\n",
      "  Index 1 = Normal\n"
     ]
    }
   ],
   "source": [
    "# Get the class names from a sample batch\n",
    "sample_batch = next(iter(dataloader))\n",
    "outputs = clf(**sample_batch)\n",
    "class_names = outputs['class_names']\n",
    "\n",
    "print(\"Class name to index mapping:\")\n",
    "for idx, name in enumerate(class_names):\n",
    "    print(f\"  Index {idx} = {name}\")"
   ]
  }
 ],
 "metadata": {
  "kernelspec": {
   "display_name": "medclip_eval",
   "language": "python",
   "name": "python3"
  },
  "language_info": {
   "codemirror_mode": {
    "name": "ipython",
    "version": 3
   },
   "file_extension": ".py",
   "mimetype": "text/x-python",
   "name": "python",
   "nbconvert_exporter": "python",
   "pygments_lexer": "ipython3",
   "version": "3.10.19"
  }
 },
 "nbformat": 4,
 "nbformat_minor": 5
}
